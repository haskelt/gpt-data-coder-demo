{
 "cells": [
  {
   "cell_type": "code",
   "execution_count": null,
   "id": "4e7f6683",
   "metadata": {},
   "outputs": [],
   "source": [
    "import asyncio\n",
    "import sys\n",
    "import time"
   ]
  },
  {
   "cell_type": "code",
   "execution_count": 28,
   "id": "ea19ae4d",
   "metadata": {},
   "outputs": [],
   "source": [
    "class MyClass:\n",
    "    @staticmethod\n",
    "    async def another_func(foo):\n",
    "        while(1):\n",
    "            pass\n",
    "    \n",
    "    async def wait_test(self, myarg):\n",
    "        print(myarg)\n",
    "        #Fake Async Server Call\n",
    "        await asyncio.wait_for(self.another_func(10), timeout=1)\n",
    "        print('world')\n",
    "        return"
   ]
  },
  {
   "cell_type": "code",
   "execution_count": null,
   "id": "baef8f75",
   "metadata": {},
   "outputs": [
    {
     "name": "stdout",
     "output_type": "stream",
     "text": [
      "hello\n"
     ]
    }
   ],
   "source": [
    "mc = MyClass()\n",
    "try: \n",
    "    await mc.wait_test('hello')\n",
    "except asyncio.TimeoutError:\n",
    "    print(\"TimeoutError\")"
   ]
  },
  {
   "cell_type": "code",
   "execution_count": null,
   "id": "e30eb0e0",
   "metadata": {},
   "outputs": [],
   "source": []
  }
 ],
 "metadata": {
  "kernelspec": {
   "display_name": "Python 3 (ipykernel)",
   "language": "python",
   "name": "python3"
  },
  "language_info": {
   "codemirror_mode": {
    "name": "ipython",
    "version": 3
   },
   "file_extension": ".py",
   "mimetype": "text/x-python",
   "name": "python",
   "nbconvert_exporter": "python",
   "pygments_lexer": "ipython3",
   "version": "3.10.13"
  }
 },
 "nbformat": 4,
 "nbformat_minor": 5
}
